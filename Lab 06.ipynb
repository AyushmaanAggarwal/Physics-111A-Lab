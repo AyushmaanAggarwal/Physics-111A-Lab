{
 "cells": [
  {
   "cell_type": "code",
   "execution_count": 2,
   "metadata": {},
   "outputs": [],
   "source": [
    "import numpy as np\n",
    "import pandas as pd"
   ]
  },
  {
   "cell_type": "markdown",
   "metadata": {},
   "source": [
    "# Problem 1"
   ]
  },
  {
   "cell_type": "code",
   "execution_count": 3,
   "metadata": {},
   "outputs": [
    {
     "name": "stdout",
     "output_type": "stream",
     "text": [
      "9.17\n",
      "7.96\n",
      "10.6\n",
      "0.15957\n",
      "0.14925373134328357\n"
     ]
    }
   ],
   "source": [
    "gain = 0.917/.1\n",
    "print(gain)\n",
    "\n",
    "gain2 = 398/50\n",
    "print(gain2)\n",
    "\n",
    "gain3 = 530/50\n",
    "print(gain3)\n",
    "\n",
    "gain4 = .15957/1\n",
    "print(gain4)\n",
    "\n",
    "calc_gain = 3e3/(2*1e4+100)\n",
    "print(calc_gain)"
   ]
  },
  {
   "cell_type": "markdown",
   "metadata": {},
   "source": [
    "# Problem 2"
   ]
  },
  {
   "cell_type": "code",
   "execution_count": 4,
   "metadata": {},
   "outputs": [
    {
     "name": "stdout",
     "output_type": "stream",
     "text": [
      "11.149999999999999 1.8524\n"
     ]
    }
   ],
   "source": [
    "gain_delta = 1.115/.1\n",
    "gain_c =  185.24/100\n",
    "print(gain_delta, gain_c)"
   ]
  },
  {
   "cell_type": "code",
   "execution_count": 5,
   "metadata": {},
   "outputs": [
    {
     "data": {
      "text/plain": [
       "65.49586135468945"
      ]
     },
     "execution_count": 5,
     "metadata": {},
     "output_type": "execute_result"
    }
   ],
   "source": [
    "1/(810e3*2*np.pi*3e-9)"
   ]
  },
  {
   "cell_type": "code",
   "execution_count": 6,
   "metadata": {},
   "outputs": [
    {
     "name": "stdout",
     "output_type": "stream",
     "text": [
      "6.767896341503701e-06 1696460032938488.2 1.3298076013381088e-12 65.49586135468945\n"
     ]
    }
   ],
   "source": [
    "w= 810e3*2*np.pi\n",
    "c = 3e-9\n",
    "print(np.sqrt(w)*c, w/c, c/np.sqrt(w), 1/(w*c))"
   ]
  },
  {
   "cell_type": "markdown",
   "metadata": {},
   "source": [
    "# Problem 4"
   ]
  },
  {
   "cell_type": "code",
   "execution_count": 7,
   "metadata": {},
   "outputs": [
    {
     "data": {
      "text/plain": [
       "7234.315595086152"
      ]
     },
     "execution_count": 7,
     "metadata": {},
     "output_type": "execute_result"
    }
   ],
   "source": [
    "1/(2*np.pi*1e-9*22e3)"
   ]
  },
  {
   "cell_type": "code",
   "execution_count": 8,
   "metadata": {},
   "outputs": [
    {
     "name": "stdout",
     "output_type": "stream",
     "text": [
      "3.016200835260494e-09\n",
      "1.0096578408236786e-09\n",
      "3.016200835260494e-09\n",
      "9.772490706244e-09\n"
     ]
    }
   ],
   "source": [
    "def station(freq):\n",
    "    return 1/(((2*np.pi*freq*1e3)**2)*12.8e-6)\n",
    "\n",
    "print(station(810))\n",
    "print(station(1400))\n",
    "print(station(810))\n",
    "print(station(450))"
   ]
  },
  {
   "cell_type": "code",
   "execution_count": 9,
   "metadata": {},
   "outputs": [
    {
     "data": {
      "text/plain": [
       "458829.3809822958"
      ]
     },
     "execution_count": 9,
     "metadata": {},
     "output_type": "execute_result"
    }
   ],
   "source": [
    "1/(2*np.pi*np.sqrt(2*4.7e-9*12.8e-6))"
   ]
  },
  {
   "cell_type": "code",
   "execution_count": 10,
   "metadata": {},
   "outputs": [
    {
     "data": {
      "text/plain": [
       "7.91571747205764e-09"
      ]
     },
     "execution_count": 10,
     "metadata": {},
     "output_type": "execute_result"
    }
   ],
   "source": [
    "\n",
    "1/(((2*np.pi*500e3)**2)*12.8e-6)"
   ]
  },
  {
   "cell_type": "code",
   "execution_count": null,
   "metadata": {},
   "outputs": [],
   "source": []
  }
 ],
 "metadata": {
  "kernelspec": {
   "display_name": "physics",
   "language": "python",
   "name": "python3"
  },
  "language_info": {
   "codemirror_mode": {
    "name": "ipython",
    "version": 3
   },
   "file_extension": ".py",
   "mimetype": "text/x-python",
   "name": "python",
   "nbconvert_exporter": "python",
   "pygments_lexer": "ipython3",
   "version": "3.12.1"
  }
 },
 "nbformat": 4,
 "nbformat_minor": 2
}
