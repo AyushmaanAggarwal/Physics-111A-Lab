{
 "cells": [
  {
   "cell_type": "markdown",
   "metadata": {},
   "source": [
    "NOTE THIS CODE WILL NOT RUN DUE TO changes in the error calculations code"
   ]
  },
  {
   "cell_type": "code",
   "execution_count": 1,
   "metadata": {},
   "outputs": [],
   "source": [
    "from LabDataAnalysis.CircuitSolvers import *\n",
    "from LabDataAnalysis.DataAnalysis import *\n",
    "from LabDataAnalysis.ErrorCalculations import *\n",
    "import numpy as np\n",
    "import matplotlib.pyplot as plt\n",
    "from uncertainties import ufloat"
   ]
  },
  {
   "cell_type": "markdown",
   "metadata": {},
   "source": [
    "# Problem 1.1"
   ]
  },
  {
   "cell_type": "code",
   "execution_count": 2,
   "metadata": {},
   "outputs": [
    {
     "name": "stdout",
     "output_type": "stream",
     "text": [
      "Should be resistance of 10k\n",
      "[9830.0+/-248.75, 9855.0+/-249.375, 9855.0+/-249.375, 9825.0+/-248.625, 9885.0+/-250.125]\n"
     ]
    }
   ],
   "source": [
    "resistances_10k = np.array([9.83, 9.855, 9.855, 9.825, 9.885])*1000\n",
    "resistances_10k =  list(map(lambda x: dmm_err_resistance(x, 0.001e3), resistances_10k ))\n",
    "print(f\"Should be resistance of 10k\")\n",
    "print(resistances_10k)"
   ]
  },
  {
   "cell_type": "code",
   "execution_count": 3,
   "metadata": {},
   "outputs": [
    {
     "name": "stdout",
     "output_type": "stream",
     "text": [
      "Should be capacitance of 10nF\n",
      "[9.27e-09+/-2.8175e-10, 9.58e-09+/-2.895e-10, 9.62e-09+/-2.905e-10, 9.11e-09+/-2.7775e-10, 9.880000000000001e-09+/-2.97e-10]\n"
     ]
    }
   ],
   "source": [
    "capacitances = np.array([9.27, 9.58, 9.62, 9.11, 9.88])*1e-9\n",
    "capacitances =  list(map(lambda x: dmm_err_capacitance(x, 0.01e-9), capacitances))\n",
    "print(\"Should be capacitance of 10nF\")\n",
    "print(capacitances)"
   ]
  },
  {
   "cell_type": "markdown",
   "metadata": {},
   "source": [
    "# Problem 1.2"
   ]
  },
  {
   "cell_type": "code",
   "execution_count": 4,
   "metadata": {},
   "outputs": [
    {
     "name": "stdout",
     "output_type": "stream",
     "text": [
      "12v measurement  with dmm is 12.06+/-12.06+/-0.07\n",
      "5v measurement   with dmm is 5.05+/-5.050+/-0.035\n",
      "3.3v measurement with dmm is 3.31+/-3.310+/-0.027\n",
      "12v measurement  with ads is 12.062+/-12.0620+/-0.0010\n",
      "5v measurement   with ads is 5.066+/-5.0660+/-0.0010\n",
      "3.3v measurement with ads is 3.326+/-3.3260+/-0.0010\n"
     ]
    }
   ],
   "source": [
    "print(f\"12v measurement  with dmm is {12.06}+/-{dmm_err_dc_voltage(12.06)}\")\n",
    "print(f\"5v measurement   with dmm is {5.05}+/-{dmm_err_dc_voltage(5.05)}\")\n",
    "print(f\"3.3v measurement with dmm is {3.31}+/-{dmm_err_dc_voltage(3.31)}\")\n",
    "print(f\"12v measurement  with ads is {12.062}+/-{ads_err_volt_voltmeter(12.062)}\")\n",
    "print(f\"5v measurement   with ads is {5.066}+/-{ads_err_volt_voltmeter(5.066)}\")\n",
    "print(f\"3.3v measurement with ads is {3.326}+/-{ads_err_volt_voltmeter(3.326)}\")"
   ]
  },
  {
   "cell_type": "markdown",
   "metadata": {},
   "source": [
    "# Problem 1.3"
   ]
  },
  {
   "cell_type": "markdown",
   "metadata": {},
   "source": [
    "Collected data and put in the notebook, no analysis required"
   ]
  },
  {
   "cell_type": "markdown",
   "metadata": {},
   "source": [
    "# Problem 1.4"
   ]
  },
  {
   "cell_type": "code",
   "execution_count": 5,
   "metadata": {},
   "outputs": [
    {
     "name": "stdout",
     "output_type": "stream",
     "text": [
      "Theory\n",
      "v_out is -3.8940397350993377 V\n",
      "voltage through resistor 1 is 15.894039735099337 V\n",
      "voltage through resistor 2 is -8.105960264900663 V\n",
      "current through resistor 1 is 0.0015894039735099338\n"
     ]
    }
   ],
   "source": [
    "print(\"Theory\")\n",
    "v_out, v_r1, v_r2, I = voltage_divider(12.0, 10.0e3, -12.0, 5.1e3)\n",
    "print(f\"v_out is {v_out} V\")\n",
    "print(f\"voltage through resistor 1 is {v_r1} V\")\n",
    "print(f\"voltage through resistor 2 is {v_r2} V\")\n",
    "print(f\"current through resistor 1 is {I}\")\n"
   ]
  },
  {
   "cell_type": "code",
   "execution_count": 6,
   "metadata": {},
   "outputs": [
    {
     "name": "stdout",
     "output_type": "stream",
     "text": [
      "v_out is 3.910+/-0.030 V\n",
      "voltage through resistor 1 is 15.97+/-0.09 V\n",
      "voltage through resistor 2 is -8.12+/-0.05 V\n",
      "current through resistor 1 is 0.001618+/-0.000014\n",
      "Resistor 10k: (9.87+/-0.10)e+03\n",
      "Resistor 5.1k: (-5.02+/-0.05)e+03\n",
      "Result from 10k agreement test: True\n",
      "Result from 5.1k agreement test: True\n"
     ]
    }
   ],
   "source": [
    "\n",
    "v_out =dmm_err_dc_voltage(3.91)\n",
    "v_r1 = dmm_err_dc_voltage(15.97) \n",
    "v_r2 = dmm_err_dc_voltage(-8.12)\n",
    "I = dmm_err_dc_current(1.618e-3, 0.001e-3, bypass=True)\n",
    "\n",
    "print(f\"v_out is {v_out} V\")\n",
    "print(f\"voltage through resistor 1 is {v_r1} V\")\n",
    "print(f\"voltage through resistor 2 is {v_r2} V\")\n",
    "print(f\"current through resistor 1 is {I}\")\n",
    "\n",
    "resistor10k_calc = v_r1 / I\n",
    "resistor5_1k_calc = v_r2/I\n",
    "resistor1 = resistance_err(10e3)\n",
    "resistor2 = resistance_err(5.1e3)\n",
    "\n",
    "print(f\"Resistor 10k: {resistor10k_calc}\")\n",
    "print(f\"Resistor 5.1k: {resistor5_1k_calc}\")\n",
    "print(\n",
    "    f\"Result from 10k agreement test: {agreement_test(resistor10k_calc, resistor1)}\"\n",
    ")\n",
    "print(\n",
    "    f\"Result from 5.1k agreement test: {agreement_test(resistor5_1k_calc, resistor2)}\"\n",
    ")"
   ]
  },
  {
   "cell_type": "markdown",
   "metadata": {},
   "source": [
    "# Problem 1.5"
   ]
  },
  {
   "cell_type": "code",
   "execution_count": 7,
   "metadata": {},
   "outputs": [
    {
     "name": "stdout",
     "output_type": "stream",
     "text": [
      "The power disipated by the 10k resistor is 0.025+/-0.020W\n",
      "The power disipated by the 5.1k resistor is -0.013+/-0.009W\n",
      "We want to avoid resistors of less than 2304.0Ohm\n"
     ]
    }
   ],
   "source": [
    "v_out, v_r1, v_r2, I = voltage_divider(\n",
    "    ads_err_voltage_output(12.0),\n",
    "    ufloat(10.0e3, 10.0e3 * 0.01),\n",
    "    ads_err_voltage_output(-12.0),\n",
    "    ads_err_voltage_output(5.1e3)\n",
    ")\n",
    "\n",
    "p_r1 = v_r1 * I\n",
    "p_r2 = v_r2 * I\n",
    "print(f\"The power disipated by the 10k resistor is {p_r1}W\")\n",
    "print(f\"The power disipated by the 5.1k resistor is {p_r2}W\")\n",
    "\n",
    "print(f\"We want to avoid resistors of less than {(24)**2/0.25}Ohm\")"
   ]
  },
  {
   "cell_type": "markdown",
   "metadata": {},
   "source": [
    "# Problem 1.6"
   ]
  },
  {
   "cell_type": "markdown",
   "metadata": {},
   "source": [
    "JUST MATH"
   ]
  },
  {
   "cell_type": "markdown",
   "metadata": {},
   "source": [
    "# Problem 1.7"
   ]
  },
  {
   "cell_type": "code",
   "execution_count": 8,
   "metadata": {},
   "outputs": [
    {
     "name": "stdout",
     "output_type": "stream",
     "text": [
      "DMM Measurement is 0.71+/-0.04\n",
      "ADS Measurement is 0.7100+/-0.0010\n",
      "Oscilliscope ADS Measurement0.708+/-0.014\n",
      "DMM is 0.73+/-0.04\n",
      "Voltmeter is 0.7080+/-0.0010\n",
      "Scope is 0.708+/-0.014\n",
      "DMM is 0.71+/-0.04\n",
      "Voltmeter is 0.7080+/-0.0010\n",
      "Scope is 0.708+/-0.014\n",
      "DMM is 0.71+/-0.04\n",
      "Voltmeter is 0.7080+/-0.0010\n",
      "Scope is 0.708+/-0.014\n",
      "DMM is 0.71+/-0.04\n",
      "Voltmeter is 0.7040+/-0.0010\n",
      "Scope is 0.708+/-0.014\n",
      "DMM is 0.71+/-0.04\n",
      "Voltmeter is 0.6920+/-0.0010\n",
      "Scope is 0.710+/-0.014\n",
      "DMM is 0.77+/-0.04\n",
      "Voltmeter is 0.7040+/-0.0010\n",
      "Scope is 0.711+/-0.014\n"
     ]
    }
   ],
   "source": [
    "print(f\"DMM Measurement is {dmm_err_ac_voltage(0.710)}\")\n",
    "print(f\"ADS Measurement is {ufloat(0.710, 0.001)}\")\n",
    "ads_err_volt_oscilliscope_l = lambda x: ads_err_volt_oscilliscope(x, 0.4)\n",
    "print(\n",
    "    f\"Oscilliscope ADS Measurement{ads_err_volt_oscilliscope(0.70775)}\"\n",
    ")\n",
    "\n",
    "print(f\"DMM is {dmm_err_ac_voltage(0.730)}\")\n",
    "print(f\"Voltmeter is {ads_err_volt_voltmeter(0.708)}\")\n",
    "print(f\"Scope is {ads_err_volt_oscilliscope_l(0.70793)}\")\n",
    "print(f\"DMM is {dmm_err_ac_voltage(0.710)}\")\n",
    "print(f\"Voltmeter is {ads_err_volt_voltmeter(0.708)}\")\n",
    "print(f\"Scope is {ads_err_volt_oscilliscope_l(0.70797)}\")\n",
    "print(f\"DMM is {dmm_err_ac_voltage(0.709)}\")\n",
    "print(f\"Voltmeter is {ads_err_volt_voltmeter(0.708)}\")\n",
    "print(f\"Scope is {ads_err_volt_oscilliscope_l(0.70796)}\")\n",
    "print(f\"DMM is {dmm_err_ac_voltage(0.708)}\")\n",
    "print(f\"Voltmeter is {ads_err_volt_voltmeter(0.704)}\")\n",
    "print(f\"Scope is {ads_err_volt_oscilliscope_l(0.7079)}\")\n",
    "print(f\"DMM is {dmm_err_ac_voltage(0.708)}\")\n",
    "print(f\"Voltmeter is { ads_err_volt_voltmeter(0.692)}\")\n",
    "print(f\"Scope is {ads_err_volt_oscilliscope_l(0.7099)}\")\n",
    "print(f\"DMM is {dmm_err_ac_voltage(0.765)}\")\n",
    "print(f\"Voltmeter is {ads_err_volt_voltmeter(0.704)}\")\n",
    "print(f\"Scope is {ads_err_volt_oscilliscope_l(0.71130)}\")\n",
    "\n"
   ]
  },
  {
   "cell_type": "code",
   "execution_count": 9,
   "metadata": {},
   "outputs": [
    {
     "name": "stdout",
     "output_type": "stream",
     "text": [
      "True True\n",
      "True True\n",
      "True True\n",
      "True True\n",
      "True True\n",
      "True True\n"
     ]
    }
   ],
   "source": [
    "values = [ufloat(0.73,0.04), ufloat(0.708,0.001), ufloat(0.708, 0.014)]\n",
    "print(agreement_test(values[0], values[2]), agreement_test(values[1], values[2]))\n",
    "values = [ufloat(0.71,0.04), ufloat(0.708,0.001), ufloat(0.708, 0.014)]\n",
    "print(agreement_test(values[0], values[2]), agreement_test(values[1], values[2]))\n",
    "values = [ufloat(0.71,0.04), ufloat(0.708,0.001), ufloat(0.708, 0.014)]\n",
    "print(agreement_test(values[0], values[2]), agreement_test(values[1], values[2]))\n",
    "values = [ufloat(0.71,0.04), ufloat(0.704,0.001), ufloat(0.708, 0.014)]\n",
    "print(agreement_test(values[0], values[2]), agreement_test(values[1], values[2]))\n",
    "values = [ufloat(0.71,0.04), ufloat(0.692,0.001), ufloat(0.710, 0.014)]\n",
    "print(agreement_test(values[0], values[2]), agreement_test(values[1], values[2]))\n",
    "values = [ufloat(0.77,0.04), ufloat(0.704,0.001), ufloat(0.711, 0.014)]\n",
    "print(agreement_test(values[0], values[2]), agreement_test(values[1], values[2]))\n"
   ]
  },
  {
   "cell_type": "markdown",
   "metadata": {},
   "source": [
    "# Problem 1.8"
   ]
  },
  {
   "cell_type": "code",
   "execution_count": 10,
   "metadata": {},
   "outputs": [
    {
     "name": "stdout",
     "output_type": "stream",
     "text": [
      "(1.002+/-0.009)e+04\n",
      "(9.93+/-0.25)e+03\n",
      "True\n"
     ]
    },
    {
     "data": {
      "text/plain": [
       "<matplotlib.legend.Legend at 0x7cd9087cf260>"
      ]
     },
     "execution_count": 10,
     "metadata": {},
     "output_type": "execute_result"
    },
    {
     "data": {
      "image/png": "[encoded data removed]",
      "text/plain": [
       "<Figure size 640x480 with 1 Axes>"
      ]
     },
     "metadata": {},
     "output_type": "display_data"
    }
   ],
   "source": [
    "#voltage = np.array([4.61, 0.194, 0.545, 5.48, 1.375, 3.00])\n",
    "voltage = np.array([0.194, 0.545, 1.375, 3.00, 4.61, 5.48])\n",
    "# voltage = np.array(gen_ufloat_array(voltage, dmm_err_dc_voltage))\n",
    "#resistance = np.array([33e3, 330, 1e3, 100e3, 3e3, 10e3])\n",
    "resistance = np.array([330, 1e3, 3e3, 10e3, 33e3, 100e3])\n",
    "# resistance = np.array(gen_ufloat_array(resistance, resistance_err))\n",
    "current = np.divide(voltage, resistance)\n",
    "\n",
    "V_open = dmm_err_dc_voltage(6.03)\n",
    "R_eq = V_open / dmm_err_dc_voltage(0.000602,0.000001, True)\n",
    "print(R_eq)\n",
    "R_eq_actual = dmm_err_resistance(9.93e3)\n",
    "print(R_eq_actual)\n",
    "print(agreement_test(R_eq,R_eq_actual))\n",
    "\n",
    "R_eq = R_eq.nominal_value\n",
    "pred_current = V_open.nominal_value / (resistance + R_eq)\n",
    "pred_voltage = pred_current * resistance\n",
    "\n",
    "plt.scatter(voltage, current, color=\"b\", label=\"Actual\")\n",
    "plt.plot(voltage, current, color=\"b\", label=\"Actual\")\n",
    "plt.scatter(pred_voltage, pred_current, color=\"r\", label=\"Predicted\")\n",
    "plt.plot(pred_voltage, pred_current, color=\"r\", label=\"Predicted\")\n",
    "plt.xlabel(\"Voltage (V)\")\n",
    "plt.ylabel(\"Current (A)\")\n",
    "plt.legend()\n"
   ]
  },
  {
   "cell_type": "markdown",
   "metadata": {},
   "source": [
    "# Problem 1.9"
   ]
  },
  {
   "cell_type": "code",
   "execution_count": 11,
   "metadata": {},
   "outputs": [
    {
     "name": "stdout",
     "output_type": "stream",
     "text": [
      "1.003+/-0.015\n",
      "0.915+/-0.015\n",
      "0.509+/-0.013\n",
      "0.152+/-0.011\n",
      "Weighted average of all measurements is (1.02+/-0.05)e+06\n",
      "[1045550.0971095639+/-262032.58477540026\n",
      " 1031401.9448946516+/-61288.539048576095\n",
      " 1002760.9886879425+/-85994.26860147016]\n"
     ]
    },
    {
     "data": {
      "image/png": "[encoded data removed]",
      "text/plain": [
       "<Figure size 640x480 with 1 Axes>"
      ]
     },
     "metadata": {},
     "output_type": "display_data"
    }
   ],
   "source": [
    "print(ads_err_volt_oscilliscope(1.0027, 0.500))\n",
    "print(ads_err_volt_oscilliscope(0.91517, 0.500))\n",
    "print(ads_err_volt_oscilliscope(0.50910, 0.500))\n",
    "print(ads_err_volt_oscilliscope(0.15228, 0.500))\n",
    "\n",
    "resistor = np.array(gen_ufloat_array([0, 100e3, 1e6, 5.6e6], lambda x: resistance_err(x).s))\n",
    "amplitude = np.array(gen_ufloat_array([1.0027, 0.91517, 0.50910, 0.15228], lambda x: ads_err_volt_oscilliscope(x, 0.500)))\n",
    "V_ext, V_in, resistor = amplitude[0], amplitude[1:], resistor[1:]\n",
    "\n",
    "Z_th = (V_in/(V_ext-V_in))*resistor\n",
    "\n",
    "print(f\"Weighted average of all measurements is {weighted_average(Z_th)}\")\n",
    "print(Z_th)\n",
    "resistor, resistor_err = seperate_uncertainty_array(resistor)\n",
    "Z_th, Z_th_err = seperate_uncertainty_array(Z_th)\n",
    "plt.errorbar(resistor, Z_th, xerr=resistor_err, yerr=Z_th_err, fmt=\"o\")\n",
    "plt.plot(resistor, Z_th)\n",
    "plt.ylim(0, 1.5e6)\n",
    "plt.xlabel(\"Resistance (Ohm)\")\n",
    "plt.ylabel(\"Impedence (Z_th)\")\n",
    "plt.show()\n"
   ]
  },
  {
   "cell_type": "code",
   "execution_count": 12,
   "metadata": {},
   "outputs": [],
   "source": [
    "# OLD CODE \n",
    "# resistor = np.array([0, 100e3, 1e6, 5.6e6])\n",
    "# resistor_err = list(map(resistance_err, resistor))\n",
    "# #amplitude = [1.001, 0.91, 0.51, 0.15]\n",
    "# amplitude = np.array([1.0027, 0.91517, 0.50910, 0.15228])\n",
    "# amplitude_err = list(map(lambda x: ads_err_volt_oscilliscope(x, 0.500), amplitude))\n",
    "# amplitude, amplitude_err = seperate_uncertainty_array(\n",
    "#     np.divide(1, get_uncertain_array(amplitude, amplitude_err))\n",
    "# )\n",
    "# error = combine_linear_uncertainties(\n",
    "#     np.array(resistor),\n",
    "#     np.array(amplitude),\n",
    "#     np.array(resistor_err),\n",
    "#     np.array(amplitude_err),\n",
    "# )\n",
    "# \n",
    "# \n",
    "# [m, c], [m_err, c_err], [y_pred, res], [chi_squared] = weighted_least_squares_linear(\n",
    "#     resistor, amplitude, error\n",
    "# )\n",
    "# # m, c = simple_least_squares_linear(resistor, np.divide(1, amplitude))\n",
    "# print(m, c)\n",
    "# fig, ax = plt.subplots(1,1)\n",
    "# ax.errorbar(resistor, amplitude, xerr=resistor_err, yerr=amplitude_err, fmt=\"o\")\n",
    "# ax.plot(resistor, y_pred)\n",
    "# plt.show()\n",
    "# "
   ]
  },
  {
   "cell_type": "markdown",
   "metadata": {},
   "source": [
    "# Problem 1.10"
   ]
  },
  {
   "cell_type": "code",
   "execution_count": 16,
   "metadata": {},
   "outputs": [
    {
     "name": "stdout",
     "output_type": "stream",
     "text": [
      "[-50.24614030056147+/-9.180708468931552\n",
      " -51.393031399494596+/-4.531924757743724]\n"
     ]
    }
   ],
   "source": [
    "resistors = np.array(gen_ufloat_array(np.array([47, 100, 1000]), resistance_err))\n",
    "V_out = np.array(\n",
    "    gen_ufloat_array(\n",
    "        np.array([0.48038, 0.66154, 0.95257]), ads_err_volt_oscilliscope\n",
    "    )\n",
    ")\n",
    "\n",
    "I_out = V_out / resistors\n",
    "\n",
    "diffV = np.array([V_out[1]-V_out[0], V_out[2]-V_out[1]])\n",
    "diffI = np.array([I_out[1]-I_out[0], I_out[2]-I_out[1]])\n",
    "\n",
    "print(diffV/diffI)\n",
    "\n"
   ]
  },
  {
   "cell_type": "markdown",
   "metadata": {},
   "source": [
    "# Problem 1.11"
   ]
  },
  {
   "cell_type": "code",
   "execution_count": 18,
   "metadata": {},
   "outputs": [
    {
     "name": "stdout",
     "output_type": "stream",
     "text": [
      "576.0\n",
      "0.5643153526970934 5.610712843332646\n",
      "0.5643153526970934\n"
     ]
    }
   ],
   "source": [
    "print(np.square(12.0) / 0.25)\n",
    "internal_impedence = resistance_err(680.0) * (\n",
    "    dmm_err_dc_voltage(12.06) / dmm_err_dc_voltage(12.05) - 1.0\n",
    ")\n",
    "print(internal_impedence.n, internal_impedence.s)\n",
    "print(680 * (12.06 / 12.05 - 1.0))"
   ]
  },
  {
   "cell_type": "markdown",
   "metadata": {},
   "source": [
    "# Problem 1.12"
   ]
  },
  {
   "cell_type": "code",
   "execution_count": 21,
   "metadata": {},
   "outputs": [
    {
     "name": "stdout",
     "output_type": "stream",
     "text": [
      "[0.55729+/-0.01278645, 0.55681+/-0.01278405, 0.55438+/-0.0127719, 0.53153+/-0.01265765, 0.37627+/-0.01188135, 0.96561+/-0.014828049999999999, 1.9707+/-0.0198535]\n",
      "[33.099 ± 0.175, 24.063 ± 0.13, 5.43 ± 0.037, 0.779 ± 0.014, 0.193 ± 0.011, 0.177 ± 0.011, 0.454 ± 0.012]\n",
      "[241.25 ± 1.216, 175.99 ± 0.89, 46.16 ± 0.241, 6.073 ± 0.04, 1.19 ± 0.016, 0.712 ± 0.014, 3.602 ± 0.028]\n",
      "[495.97 ± 2.49, 458.68 ± 2.303, 261.78 ± 1.319, 49.771 ± 0.259, 5.749 ± 0.039, 0.949 ± 0.015, 29.039 ± 0.155]\n",
      "[551.84 ± 2.769, 551.22 ± 2.766, 544.02 ± 2.73, 481.26 ± 2.416, 223.18 ± 1.126, 34.732 ± 0.184, 1176.0 ± 5.89]\n"
     ]
    },
    {
     "ename": "ValueError",
     "evalue": "operands could not be broadcast together with shapes (4,) (0,) ",
     "output_type": "error",
     "traceback": [
      "\u001b[0;31m---------------------------------------------------------------------------\u001b[0m",
      "\u001b[0;31mValueError\u001b[0m                                Traceback (most recent call last)",
      "\u001b[1;32m/home/ayushmaan/Documents/College/7 - Physics 111A/code/Lab 01.ipynb Cell 30\u001b[0m line \u001b[0;36m3\n\u001b[1;32m     <a href='vscode-notebook-cell:/home/ayushmaan/Documents/College/7%20-%20Physics%20111A/code/Lab%2001.ipynb#X41sZmlsZQ%3D%3D?line=29'>30</a>\u001b[0m voltage, v_err \u001b[39m=\u001b[39m seperate_uncertainty_array([v100, v1k, v10k, v1m])\n\u001b[1;32m     <a href='vscode-notebook-cell:/home/ayushmaan/Documents/College/7%20-%20Physics%20111A/code/Lab%2001.ipynb#X41sZmlsZQ%3D%3D?line=31'>32</a>\u001b[0m current, I_err \u001b[39m=\u001b[39m seperate_uncertainty_array([i100, i1k, i10k, i1m])\n\u001b[0;32m---> <a href='vscode-notebook-cell:/home/ayushmaan/Documents/College/7%20-%20Physics%20111A/code/Lab%2001.ipynb#X41sZmlsZQ%3D%3D?line=32'>33</a>\u001b[0m err \u001b[39m=\u001b[39m combine_linear_uncertainties(x\u001b[39m=\u001b[39;49mnp\u001b[39m.\u001b[39;49marray(current), x_err\u001b[39m=\u001b[39;49mnp\u001b[39m.\u001b[39;49marray(I_err), y_err\u001b[39m=\u001b[39;49mnp\u001b[39m.\u001b[39;49marray(v_err), y\u001b[39m=\u001b[39;49mnp\u001b[39m.\u001b[39;49marray(voltage))\n\u001b[1;32m     <a href='vscode-notebook-cell:/home/ayushmaan/Documents/College/7%20-%20Physics%20111A/code/Lab%2001.ipynb#X41sZmlsZQ%3D%3D?line=33'>34</a>\u001b[0m [m, c], [m_err, c_err], [y_pred, res], [chi_squared] \u001b[39m=\u001b[39m weighted_least_squares_linear(current,voltage, err)\n\u001b[1;32m     <a href='vscode-notebook-cell:/home/ayushmaan/Documents/College/7%20-%20Physics%20111A/code/Lab%2001.ipynb#X41sZmlsZQ%3D%3D?line=34'>35</a>\u001b[0m slope\u001b[39m.\u001b[39mappend(ufloat(m, m_err))\n",
      "File \u001b[0;32m~/Documents/College/7 - Physics 111A/code/pylib/LabDataAnalysis/DataAnalysis.py:188\u001b[0m, in \u001b[0;36mcombine_linear_uncertainties\u001b[0;34m(x, y, x_err, y_err)\u001b[0m\n\u001b[1;32m    184\u001b[0m \u001b[39mdef\u001b[39;00m \u001b[39mcombine_linear_uncertainties\u001b[39m(x, y, x_err\u001b[39m=\u001b[39m[], y_err\u001b[39m=\u001b[39m[]):\n\u001b[1;32m    185\u001b[0m \u001b[39m    \u001b[39m\u001b[39m\"\"\"\u001b[39;00m\n\u001b[1;32m    186\u001b[0m \u001b[39m    Combines the error in x and in y assuming a linear relationship between x and y\u001b[39;00m\n\u001b[1;32m    187\u001b[0m \u001b[39m    \"\"\"\u001b[39;00m\n\u001b[0;32m--> 188\u001b[0m     \u001b[39mif\u001b[39;00m x_err \u001b[39m==\u001b[39;49m [] \u001b[39mand\u001b[39;00m y_err \u001b[39m==\u001b[39m []:\n\u001b[1;32m    189\u001b[0m         _, x_err \u001b[39m=\u001b[39m seperate_uncertainty_array(x)\n\u001b[1;32m    190\u001b[0m         _, y_err \u001b[39m=\u001b[39m seperate_uncertainty_array(y)\n",
      "\u001b[0;31mValueError\u001b[0m: operands could not be broadcast together with shapes (4,) (0,) "
     ]
    },
    {
     "data": {
      "image/png": "[encoded data removed]",
      "text/plain": [
       "<Figure size 640x480 with 1 Axes>"
      ]
     },
     "metadata": {},
     "output_type": "display_data"
    }
   ],
   "source": [
    "resistance_none_volts = [0.55729, 0.55681,  0.55438,  0.53153,  0.37627,  0.96561,  1.9707]\n",
    "print (gen_ufloat_array(resistance_none_volts, ads_err_volt_oscilliscope))\n",
    "resistance_100_volts = [ 33.099,  24.063,    5.4297,  0.77893,  0.19327,  0.17674,  0.45409]\n",
    "resistance_1k_volts = [241.25,  175.99,  46.160,  6.0730,  1.1899,  0.71203,   3.6015]\n",
    "resistance_10k_volts = [ 495.97,  458.68,  261.78,  49.771,  5.7487,  0.94901,  29.039]\n",
    "resistance_1m_volts =  [  551.84,  551.22,  544.02,  481.26,  223.18,  34.732,  1176.0]\n",
    "resistance_100_volts = gen_ufloat_array(resistance_100_volts, ads_err_volt_oscilliscope)\n",
    "resistance_1k_volts =  gen_ufloat_array(resistance_1k_volts, ads_err_volt_oscilliscope)\n",
    "resistance_10k_volts = gen_ufloat_array(resistance_10k_volts, ads_err_volt_oscilliscope)\n",
    "resistance_1m_volts =  gen_ufloat_array(resistance_1m_volts, ads_err_volt_oscilliscope)\n",
    "print_ufloats(resistance_100_volts)\n",
    "print_ufloats(resistance_1k_volts)\n",
    "print_ufloats(resistance_10k_volts)\n",
    "print_ufloats(resistance_1m_volts)\n",
    "resistance_100_volts = np.divide(resistance_100_volts, 1.0e3)\n",
    "resistance_1k_volts = np.divide(resistance_1k_volts, 1.0e3)\n",
    "resistance_10k_volts = np.divide(resistance_10k_volts, 1.0e3)\n",
    "resistance_1m_volts = np.divide(resistance_1m_volts, 1.0e3)\n",
    "\n",
    "\n",
    "I_out_100 = np.divide(resistance_100_volts, resistance_err(100.0))\n",
    "I_out_1k = np.divide(resistance_1k_volts, resistance_err(1000.0))\n",
    "I_out_10k = np.divide(resistance_10k_volts, resistance_err(10000.0))\n",
    "I_out_1m = np.divide(resistance_1m_volts, resistance_err(1.0e6))\n",
    "slope = []\n",
    "i = 0\n",
    "resistance_measurements = [v+\" Ohm Setting\" for v in [\"200\", \"2k\", \"20k\", \"200k\", \"2M\", \"20M\", \"200M\"]]\n",
    "fig, ax = plt.subplots()\n",
    "for v100, v1k, v10k, v1m, i100, i1k, i10k, i1m in zip(resistance_100_volts, resistance_1k_volts, resistance_10k_volts, resistance_1m_volts, I_out_100, I_out_1k, I_out_10k, I_out_1m):\n",
    "    voltage, v_err = seperate_uncertainty_array([v100, v1k, v10k, v1m])\n",
    "    \n",
    "    current, I_err = seperate_uncertainty_array([i100, i1k, i10k, i1m])\n",
    "    err = combine_linear_uncertainties(x=np.array(current), x_err=np.array(I_err), y_err=np.array(v_err), y=np.array(voltage))\n",
    "    [m, c], [m_err, c_err], [y_pred, res], [chi_squared] = weighted_least_squares_linear(current,voltage, err)\n",
    "    slope.append(ufloat(m, m_err))\n",
    "\n",
    "    ax.plot(current, y_pred, color=colors[i])\n",
    "    ax.errorbar(current, voltage, xerr=I_err, yerr=v_err, fmt=\"o\", color=colors[i], label=resistance_measurements[i])\n",
    "    i += 1\n",
    "    #plt.xlim(-.00005, 0.00005)\n",
    "    #plt.ylim(-0.1, 0.1)\n",
    "    #print((m, m_err))\n",
    "    #print(ufloat(m, m_err))\n",
    "\n",
    "print_ufloats(slope, digits=0)\n",
    "ax.legend()\n",
    "ax.set_xlabel(\"Current (A)\")\n",
    "ax.set_ylabel(\"Voltage (V)\")\n",
    "# ax.set_xscale('log')\n",
    "\n",
    "#for v0, v100, v1k, v10k in zip(resistance_none_volts, resistance_100_volts, resistance_1k_volts, resistance_10k_volts ):\n",
    "#    R = 100.0\n",
    "#    print(R*(v0-v100)/v100)\n",
    "#    R = 1000.0\n",
    "#    print(R*(v0-v1k)/v1k)\n",
    "#    R = 10000.0\n",
    "#    print(R*(v0-v10k)/v10k)\n",
    "plt.show()"
   ]
  },
  {
   "cell_type": "code",
   "execution_count": null,
   "metadata": {},
   "outputs": [
    {
     "data": {
      "image/png": "[encoded data removed]",
      "text/plain": [
       "<Figure size 640x480 with 1 Axes>"
      ]
     },
     "metadata": {},
     "output_type": "display_data"
    }
   ],
   "source": [
    "fig, ax = plt.subplots()\n",
    "x = [200, 2e3, 20e3, 200e3, 2e6, 20e6, 200e6]\n",
    "ax.errorbar(x, np.abs(seperate_uncertainty_array(slope)[0]), yerr=seperate_uncertainty_array(slope)[1], fmt=\"o\")\n",
    "ax.set_yscale('log')\n",
    "ax.set_xscale('log')\n",
    "ax.set_xlabel(\"Resistor Setting (M Ohm)\")\n",
    "ax.set_ylabel(\"Impedence (Ohms)\")\n",
    "plt.show()"
   ]
  },
  {
   "cell_type": "code",
   "execution_count": null,
   "metadata": {},
   "outputs": [
    {
     "data": {
      "text/plain": [
       "[<matplotlib.lines.Line2D at 0x77f589b32480>]"
      ]
     },
     "execution_count": 19,
     "metadata": {},
     "output_type": "execute_result"
    },
    {
     "data": {
      "image/png": "[encoded data removed]",
      "text/plain": [
       "<Figure size 640x480 with 1 Axes>"
      ]
     },
     "metadata": {},
     "output_type": "display_data"
    }
   ],
   "source": [
    "plt.plot(seperate_uncertainty_array(slope)[0])"
   ]
  }
 ],
 "metadata": {
  "kernelspec": {
   "display_name": "Python 3 (ipykernel)",
   "language": "python",
   "name": "python3"
  },
  "language_info": {
   "codemirror_mode": {
    "name": "ipython",
    "version": 3
   },
   "file_extension": ".py",
   "mimetype": "text/x-python",
   "name": "python",
   "nbconvert_exporter": "python",
   "pygments_lexer": "ipython3",
   "version": "3.12.1"
  }
 },
 "nbformat": 4,
 "nbformat_minor": 4
}
