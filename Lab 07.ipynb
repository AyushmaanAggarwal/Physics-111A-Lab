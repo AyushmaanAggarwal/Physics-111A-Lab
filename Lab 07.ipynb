{
 "cells": [
  {
   "cell_type": "code",
   "execution_count": 1,
   "metadata": {},
   "outputs": [],
   "source": [
    "import numpy as np"
   ]
  },
  {
   "cell_type": "markdown",
   "metadata": {},
   "source": [
    "# Problem 1"
   ]
  },
  {
   "cell_type": "code",
   "execution_count": 4,
   "metadata": {},
   "outputs": [
    {
     "name": "stdout",
     "output_type": "stream",
     "text": [
      "8.659514184071958e-12\n",
      "5600000.0\n"
     ]
    }
   ],
   "source": [
    "C = 1/(2*np.pi*3.282e3*5.6e6)\n",
    "print(C)\n",
    "print(1/(2*np.pi*3.282e3*C))"
   ]
  },
  {
   "cell_type": "markdown",
   "metadata": {},
   "source": [
    "# Problem 2"
   ]
  },
  {
   "cell_type": "code",
   "execution_count": 5,
   "metadata": {},
   "outputs": [
    {
     "name": "stdout",
     "output_type": "stream",
     "text": [
      "10.388968856320336\n"
     ]
    }
   ],
   "source": [
    "gain = 0.95271/91.704e-3\n",
    "print(gain)"
   ]
  },
  {
   "cell_type": "code",
   "execution_count": 7,
   "metadata": {},
   "outputs": [
    {
     "name": "stdout",
     "output_type": "stream",
     "text": [
      "10.050968399592252\n",
      "921.6738022426096\n"
     ]
    }
   ],
   "source": [
    "gain_calc = 9.86/0.981\n",
    "print(gain_calc)\n",
    "print(gain_calc*91.7)"
   ]
  },
  {
   "cell_type": "code",
   "execution_count": null,
   "metadata": {},
   "outputs": [],
   "source": [
    "0.95271 V"
   ]
  },
  {
   "cell_type": "markdown",
   "metadata": {},
   "source": [
    "# Problem 3"
   ]
  },
  {
   "cell_type": "code",
   "execution_count": 4,
   "metadata": {},
   "outputs": [
    {
     "name": "stdout",
     "output_type": "stream",
     "text": [
      "3.0095704339800564\n",
      "3.0426638917793967\n"
     ]
    }
   ],
   "source": [
    "gain = 300/99.682 \n",
    "print(gain)\n",
    "\n",
    "pred_gain = 1 + 1.963/.961\n",
    "print(pred_gain)"
   ]
  },
  {
   "cell_type": "markdown",
   "metadata": {},
   "source": [
    "# Problem 4"
   ]
  },
  {
   "cell_type": "code",
   "execution_count": 7,
   "metadata": {},
   "outputs": [
    {
     "name": "stdout",
     "output_type": "stream",
     "text": [
      "0.00275\n",
      "18.608333333333334\n"
     ]
    }
   ],
   "source": [
    "R_out = (150*(4.7e3 + 47e3))/(6e5*4.7e3)\n",
    "print(R_out)\n",
    "R_out_2 = ((150+10e3)*(4.7e3 + 47e3))/(6e3*4.7e3)\n",
    "print(R_out_2)"
   ]
  },
  {
   "cell_type": "code",
   "execution_count": 8,
   "metadata": {},
   "outputs": [
    {
     "name": "stdout",
     "output_type": "stream",
     "text": [
      "9.970359241927461\n"
     ]
    }
   ],
   "source": [
    "gain_measured = .98221/.098513\n",
    "print(gain_measured)"
   ]
  },
  {
   "cell_type": "code",
   "execution_count": 10,
   "metadata": {},
   "outputs": [
    {
     "name": "stdout",
     "output_type": "stream",
     "text": [
      "9.432754257367842\n"
     ]
    }
   ],
   "source": [
    "gain_2 = 0.93555/.099181\n",
    "print(gain_2)"
   ]
  },
  {
   "cell_type": "code",
   "execution_count": 11,
   "metadata": {},
   "outputs": [
    {
     "data": {
      "text/plain": [
       "16.666666666666668"
      ]
     },
     "execution_count": 11,
     "metadata": {},
     "output_type": "execute_result"
    }
   ],
   "source": [
    "10*10e3/6e3"
   ]
  },
  {
   "cell_type": "code",
   "execution_count": 15,
   "metadata": {},
   "outputs": [
    {
     "name": "stdout",
     "output_type": "stream",
     "text": [
      "49.14529914529906\n",
      "46.20726495726497\n"
     ]
    }
   ],
   "source": [
    "R_out = 1e3*(0.982-.936)/0.936\n",
    "print(R_out)\n",
    "R_out_with_clipping = 1e3*(0.982- (1.8775/2))/0.936 4\n",
    "print(R_out_with_clipping)"
   ]
  },
  {
   "cell_type": "markdown",
   "metadata": {},
   "source": [
    "# Problem 6"
   ]
  },
  {
   "cell_type": "code",
   "execution_count": 4,
   "metadata": {},
   "outputs": [
    {
     "name": "stdout",
     "output_type": "stream",
     "text": [
      "0.01292639102397732\n",
      "21.003228634351814\n",
      "Theoretical\n",
      "-20.317886921887865 0.026199099617508315\n"
     ]
    }
   ],
   "source": [
    "common_gain =  0.064747/5.0089 \n",
    "print(common_gain)\n",
    "diff_gain = 1.9646/.093538\n",
    "print(diff_gain)\n",
    " \n",
    "print(\"Theoretical\")\n",
    "diff_gain = -47.3/4.65*((1+ 4.63/47.65)/(1+ 1/10) +1)\n",
    "common_gain = (-47.3/4.65)*((1+ 4.63/47.65)/(1+ 1/10) -1)\n",
    "print(diff_gain, common_gain) \n",
    "\n",
    " \n"
   ]
  },
  {
   "cell_type": "code",
   "execution_count": null,
   "metadata": {},
   "outputs": [],
   "source": []
  }
 ],
 "metadata": {
  "kernelspec": {
   "display_name": "physics",
   "language": "python",
   "name": "python3"
  },
  "language_info": {
   "codemirror_mode": {
    "name": "ipython",
    "version": 3
   },
   "file_extension": ".py",
   "mimetype": "text/x-python",
   "name": "python",
   "nbconvert_exporter": "python",
   "pygments_lexer": "ipython3",
   "version": "3.1.0"
  }
 },
 "nbformat": 4,
 "nbformat_minor": 2
}
